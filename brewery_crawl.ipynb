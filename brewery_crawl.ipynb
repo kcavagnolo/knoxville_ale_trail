{
 "cells": [
  {
   "cell_type": "code",
   "execution_count": 12,
   "metadata": {
    "ExecuteTime": {
     "end_time": "2020-01-25T17:38:48.090052Z",
     "start_time": "2020-01-25T17:38:48.082084Z"
    }
   },
   "outputs": [],
   "source": [
    "import datetime\n",
    "import requests\n",
    "import csv\n",
    "import sys\n",
    "import json\n",
    "import time\n",
    "import re\n",
    "import os"
   ]
  },
  {
   "cell_type": "code",
   "execution_count": 13,
   "metadata": {
    "ExecuteTime": {
     "end_time": "2020-01-25T17:38:48.508684Z",
     "start_time": "2020-01-25T17:38:48.501075Z"
    }
   },
   "outputs": [],
   "source": [
    "# set IO file names\n",
    "breweries = \"breweries.csv\"\n",
    "geocoded_breweries = \"geocoded_breweries.csv\""
   ]
  },
  {
   "cell_type": "code",
   "execution_count": 15,
   "metadata": {
    "ExecuteTime": {
     "end_time": "2020-01-25T17:38:53.620449Z",
     "start_time": "2020-01-25T17:38:49.334764Z"
    },
    "code_folding": []
   },
   "outputs": [],
   "source": [
    "outfile = open(geocoded_breweries, \"w\")\n",
    "with open(breweries, 'r') as csvfile:\n",
    "    reader = csv.reader(csvfile, skipinitialspace=True)\n",
    "    next(reader, None)\n",
    "    for row in sorted(reader, key=lambda x: int(x[0])):\n",
    "        address = ' '.join(row[1:]).lower()\n",
    "        url = 'https://api.mapanything.io/services/core/geocoding/v2?address={}'.format(address)\n",
    "        headers = {\n",
    "            'Accept-Encoding': 'application/gzip',\n",
    "            'Content-Type': 'application/json',\n",
    "            'x-api-key': os.getenv(\"MAPANYTHING_APIKEY\")\n",
    "        }\n",
    "        response = requests.request('GET', url, headers=headers, allow_redirects=True)\n",
    "        response = response.json()\n",
    "        if 'data' in response:\n",
    "            outfile.write(\n",
    "                str(row[0]) + \",\" +\n",
    "                str(response['data']['position']['lat']) + \",\" +\n",
    "                str(response['data']['position']['lng']) + \",\" +\n",
    "                str(row[1].lower()) + \",\" + \n",
    "                str(response['data']['fullAddress']) +\"\\n\")\n",
    "        else:\n",
    "            outfile.write(\"0.0, 0.0, {}\".format(address) + \"\\n\")\n",
    "outfile.close()"
   ]
  },
  {
   "cell_type": "code",
   "execution_count": 28,
   "metadata": {
    "ExecuteTime": {
     "end_time": "2020-01-25T17:41:37.855697Z",
     "start_time": "2020-01-25T17:41:37.843604Z"
    }
   },
   "outputs": [],
   "source": [
    "# current times\n",
    "utc_offset_sec = time.altzone if time.localtime().tm_isdst else time.timezone\n",
    "utc_offset = datetime.timedelta(seconds=-utc_offset_sec)\n",
    "now = datetime.datetime.now().replace(tzinfo=datetime.timezone(offset=utc_offset))\n",
    "now = now - datetime.timedelta(hours=1)\n",
    "later = now + datetime.timedelta(hours=8)\n",
    "\n",
    "# linger times in hours\n",
    "default_linger = 0.5\n",
    "\n",
    "# appointment times\n",
    "time_format = \"%Y-%m-%d %H:%M:%S\"\n",
    "gametime = \"2020-01-25 15:45:00\"\n",
    "buzzertime = \"2020-01-25 18:15:00\"\n",
    "arrive = datetime.datetime.strptime(gametime, time_format).isoformat()\n",
    "depart = datetime.datetime.strptime(buzzertime, time_format).isoformat()"
   ]
  },
  {
   "cell_type": "code",
   "execution_count": 29,
   "metadata": {
    "ExecuteTime": {
     "end_time": "2020-01-25T17:41:38.415214Z",
     "start_time": "2020-01-25T17:41:38.391353Z"
    },
    "code_folding": []
   },
   "outputs": [],
   "source": [
    "with open(geocoded_breweries, 'r') as csvfile:\n",
    "    reader = csv.reader(csvfile, skipinitialspace=True)\n",
    "    locations = []\n",
    "    orders = []\n",
    "    for row in reader:\n",
    "        locations.append({\n",
    "            \"latitude\": float(row[1]),\n",
    "            \"longitude\": float(row[2]),\n",
    "            \"location_id\": row[3]\n",
    "        })\n",
    "        if \"home\" not in row[3]:\n",
    "            order = {\n",
    "                \"order_id\": row[3],\n",
    "                \"location_id\": row[3],\n",
    "                \"duration\": default_linger*3600,\n",
    "                \"priority\": int(row[0])\n",
    "            }\n",
    "            # TODO: add time windows to orders\n",
    "            if 'elkmont' in row[3]:\n",
    "                appointment = [\n",
    "                    {\n",
    "                        \"appointment_start\": arrive,\n",
    "                        \"appointment_end\": depart\n",
    "                    }\n",
    "                ]\n",
    "                order['appointments'] = appointment\n",
    "                order['duration'] = 2.5*3600\n",
    "            orders.append(order)"
   ]
  },
  {
   "cell_type": "code",
   "execution_count": 30,
   "metadata": {
    "ExecuteTime": {
     "end_time": "2020-01-25T17:41:38.816137Z",
     "start_time": "2020-01-25T17:41:38.798085Z"
    },
    "code_folding": [
     10
    ]
   },
   "outputs": [],
   "source": [
    "# blank payload\n",
    "payload = {}\n",
    "\n",
    "# breweries to visit\n",
    "payload['locations'] = locations\n",
    "\n",
    "# places we actually want to visit (all of them)\n",
    "payload['orders'] = orders\n",
    "\n",
    "# how we'll move around\n",
    "payload['vehicles'] = [\n",
    "    {\n",
    "        \"vehicle_id\": \"uber\",\n",
    "        \"type\": \"car\",\n",
    "        \"shifts\": [\n",
    "            {\n",
    "                \"shift_start\": now.isoformat(),\n",
    "                \"shift_end\": later.isoformat(),\n",
    "                \"shift_id\": \"crawl_shift\",\n",
    "                \n",
    "                \"start_location_id\": \"home\",\n",
    "                \"end_location_id\": \"home\"\n",
    "            }\n",
    "        ]\n",
    "    }\n",
    "]\n",
    "\n",
    "# constraints\n",
    "payload['constraints'] = [\n",
    "    {\n",
    "        \"constraint_type\": \"travel_time\",\n",
    "        \"constraint_name\": \"Minimize travel time\",\n",
    "        \"violation_increment\": 1,\n",
    "        \"penalty_per_violation\": 1,\n",
    "        \"max_travel_time_seconds\": 0\n",
    "    },\n",
    "    {\n",
    "        \"constraint_type\": \"scheduled_appointment\",\n",
    "        \"constraint_name\": \"Meet scheduled appointments\",\n",
    "        \"violation_increment\": 1,\n",
    "        \"penalty_per_violation\": 10000,\n",
    "    },\n",
    "    {\n",
    "        \"constraint_type\": \"visit_range\",\n",
    "        \"constraint_name\": \"visit as many orders as possible\",\n",
    "        \"penalty_per_violation\": 100,\n",
    "        \"violation_increment\": 1\n",
    "    }\n",
    "]"
   ]
  },
  {
   "cell_type": "code",
   "execution_count": 31,
   "metadata": {
    "ExecuteTime": {
     "end_time": "2020-01-25T17:41:45.888981Z",
     "start_time": "2020-01-25T17:41:44.265456Z"
    }
   },
   "outputs": [],
   "source": [
    "url = 'https://public-api.mapanything.io/mare/routing/sync'\n",
    "headers = {\n",
    "    'Accept-Encoding': 'application/gzip',\n",
    "    'Content-Type': 'application/json',\n",
    "    'x-api-key': os.getenv(\"MAPANYTHING_APIKEY\")\n",
    "}\n",
    "response = requests.request('POST', url, headers=headers, data=json.dumps(payload), allow_redirects=True)\n",
    "response = response.json()"
   ]
  },
  {
   "cell_type": "code",
   "execution_count": 32,
   "metadata": {
    "ExecuteTime": {
     "end_time": "2020-01-25T17:41:46.510992Z",
     "start_time": "2020-01-25T17:41:46.480628Z"
    }
   },
   "outputs": [],
   "source": [
    "with open('request.json', 'w') as f:\n",
    "    json.dump(payload, f)\n",
    "with open('response.json', 'w') as f:\n",
    "    json.dump(response, f)"
   ]
  },
  {
   "cell_type": "code",
   "execution_count": 33,
   "metadata": {
    "ExecuteTime": {
     "end_time": "2020-01-25T17:41:47.203176Z",
     "start_time": "2020-01-25T17:41:47.030803Z"
    }
   },
   "outputs": [],
   "source": [
    "!pbcopy < request.json"
   ]
  },
  {
   "cell_type": "code",
   "execution_count": null,
   "metadata": {},
   "outputs": [],
   "source": []
  }
 ],
 "metadata": {
  "kernelspec": {
   "display_name": "Python 3",
   "language": "python",
   "name": "python3"
  },
  "language_info": {
   "codemirror_mode": {
    "name": "ipython",
    "version": 3
   },
   "file_extension": ".py",
   "mimetype": "text/x-python",
   "name": "python",
   "nbconvert_exporter": "python",
   "pygments_lexer": "ipython3",
   "version": "3.7.5"
  },
  "toc": {
   "base_numbering": 1,
   "nav_menu": {},
   "number_sections": true,
   "sideBar": true,
   "skip_h1_title": false,
   "title_cell": "Table of Contents",
   "title_sidebar": "Contents",
   "toc_cell": false,
   "toc_position": {},
   "toc_section_display": true,
   "toc_window_display": false
  },
  "varInspector": {
   "cols": {
    "lenName": 16,
    "lenType": 16,
    "lenVar": 40
   },
   "kernels_config": {
    "python": {
     "delete_cmd_postfix": "",
     "delete_cmd_prefix": "del ",
     "library": "var_list.py",
     "varRefreshCmd": "print(var_dic_list())"
    },
    "r": {
     "delete_cmd_postfix": ") ",
     "delete_cmd_prefix": "rm(",
     "library": "var_list.r",
     "varRefreshCmd": "cat(var_dic_list()) "
    }
   },
   "types_to_exclude": [
    "module",
    "function",
    "builtin_function_or_method",
    "instance",
    "_Feature"
   ],
   "window_display": false
  }
 },
 "nbformat": 4,
 "nbformat_minor": 2
}
