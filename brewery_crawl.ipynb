{
 "cells": [
  {
   "cell_type": "code",
   "execution_count": 5,
   "metadata": {
    "ExecuteTime": {
     "end_time": "2020-01-25T13:33:33.959043Z",
     "start_time": "2020-01-25T13:33:33.953604Z"
    }
   },
   "outputs": [],
   "source": [
    "import requests\n",
    "import csv\n",
    "import sys\n",
    "import re\n",
    "import os"
   ]
  },
  {
   "cell_type": "code",
   "execution_count": 16,
   "metadata": {
    "ExecuteTime": {
     "end_time": "2020-01-25T13:37:40.495901Z",
     "start_time": "2020-01-25T13:37:40.489021Z"
    }
   },
   "outputs": [],
   "source": [
    "infile = \"breweries.csv\"\n",
    "outfile = \"geocoded_breweries.csv\""
   ]
  },
  {
   "cell_type": "code",
   "execution_count": 19,
   "metadata": {
    "ExecuteTime": {
     "end_time": "2020-01-25T13:39:57.048911Z",
     "start_time": "2020-01-25T13:39:51.877580Z"
    }
   },
   "outputs": [],
   "source": [
    "f = open(outfile, \"w\")\n",
    "with open(infile, 'r') as csvfile:\n",
    "    reader = csv.reader(csvfile, skipinitialspace=True)\n",
    "    next(reader, None)\n",
    "    for row in reader:\n",
    "        address = ' '.join(row).lower()\n",
    "        url = 'https://api.mapanything.io/services/core/geocoding/v2?address={}'.format(address)\n",
    "        headers = {\n",
    "            'Accept-Encoding': 'application/gzip',\n",
    "            'Content-Type': 'application/json',\n",
    "            'x-api-key': os.getenv(\"MAPANYTHING_APIKEY\")\n",
    "        }\n",
    "        response = requests.request('GET', url, headers=headers, allow_redirects=True)\n",
    "        response = response.json()\n",
    "        if 'data' in response:\n",
    "            f.write(str(response['data']['position']['lat'])+','+\n",
    "                    str(response['data']['position']['lng'])+','+\n",
    "                    row[0].lower() + \" \" + str(response['data']['fullAddress']).replace(\",\", \"\")+\n",
    "                    \"\\n\")\n",
    "        else:\n",
    "            f.write(\"0.0, 0.0, {}\".format(address) + \"\\n\")\n",
    "f.close()"
   ]
  },
  {
   "cell_type": "code",
   "execution_count": null,
   "metadata": {},
   "outputs": [],
   "source": []
  }
 ],
 "metadata": {
  "kernelspec": {
   "display_name": "Python 3",
   "language": "python",
   "name": "python3"
  },
  "language_info": {
   "codemirror_mode": {
    "name": "ipython",
    "version": 3
   },
   "file_extension": ".py",
   "mimetype": "text/x-python",
   "name": "python",
   "nbconvert_exporter": "python",
   "pygments_lexer": "ipython3",
   "version": "3.7.5"
  },
  "toc": {
   "base_numbering": 1,
   "nav_menu": {},
   "number_sections": true,
   "sideBar": true,
   "skip_h1_title": false,
   "title_cell": "Table of Contents",
   "title_sidebar": "Contents",
   "toc_cell": false,
   "toc_position": {},
   "toc_section_display": true,
   "toc_window_display": false
  },
  "varInspector": {
   "cols": {
    "lenName": 16,
    "lenType": 16,
    "lenVar": 40
   },
   "kernels_config": {
    "python": {
     "delete_cmd_postfix": "",
     "delete_cmd_prefix": "del ",
     "library": "var_list.py",
     "varRefreshCmd": "print(var_dic_list())"
    },
    "r": {
     "delete_cmd_postfix": ") ",
     "delete_cmd_prefix": "rm(",
     "library": "var_list.r",
     "varRefreshCmd": "cat(var_dic_list()) "
    }
   },
   "types_to_exclude": [
    "module",
    "function",
    "builtin_function_or_method",
    "instance",
    "_Feature"
   ],
   "window_display": false
  }
 },
 "nbformat": 4,
 "nbformat_minor": 2
}
